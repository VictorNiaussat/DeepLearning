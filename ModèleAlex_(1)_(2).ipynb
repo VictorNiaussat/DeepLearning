{
  "cells": [
    {
      "cell_type": "code",
      "execution_count": null,
      "id": "ffd8ca25",
      "metadata": {
        "id": "ffd8ca25"
      },
      "outputs": [],
      "source": [
        "import numpy as np\n",
        "import matplotlib.pyplot as plt\n",
        "import pandas as pd\n",
        "import tensorflow as tf\n",
        "from tensorflow import keras\n",
        "from keras import layers, models, optimizers\n",
        "from scipy import interpolate\n",
        "import zipfile\n",
        "from sklearn.model_selection import train_test_split\n",
        "import matplotlib.pyplot as plt\n",
        "from keras.models import Sequential\n",
        "from keras.layers import Dense\n",
        "from keras.layers import Flatten\n",
        "from keras.layers import Dropout\n",
        "from keras.layers.convolutional import Conv1D\n",
        "from keras.layers.convolutional import MaxPooling1D\n",
        "from keras.layers import Input, Dense, concatenate\n",
        "from keras.models import Model"
      ]
    },
    {
      "cell_type": "code",
      "source": [
        "# If you work on google colab, mount your google drive to download the data\n",
        "# If you work on kaggle notbook you can directly download the data\n",
        "from google.colab import drive\n",
        "drive.mount('/content/drive')"
      ],
      "metadata": {
        "colab": {
          "base_uri": "https://localhost:8080/"
        },
        "id": "gk2xeiJbTPWs",
        "outputId": "519f9ec7-f716-4bd0-cb9b-7fc97ebae893"
      },
      "id": "gk2xeiJbTPWs",
      "execution_count": null,
      "outputs": [
        {
          "output_type": "stream",
          "name": "stdout",
          "text": [
            "Mounted at /content/drive\n"
          ]
        }
      ]
    },
    {
      "cell_type": "code",
      "source": [],
      "metadata": {
        "colab": {
          "base_uri": "https://localhost:8080/"
        },
        "id": "5Fteyi4bTLNR",
        "outputId": "be27909d-52cb-4e91-c62c-9bc52fbb4235"
      },
      "id": "5Fteyi4bTLNR",
      "execution_count": null,
      "outputs": [
        {
          "output_type": "stream",
          "name": "stdout",
          "text": [
            "Done\n"
          ]
        }
      ]
    },
    {
      "cell_type": "code",
      "execution_count": null,
      "id": "e460c4e1",
      "metadata": {
        "id": "e460c4e1"
      },
      "outputs": [],
      "source": [
        "def interp(t_from, t_to, x_from):\n",
        "    result = np.zeros((len(t_to), x_from.shape[1]))\n",
        "    for k in range(x_from.shape[1]):\n",
        "        f = interpolate.interp1d(t_from, x_from[:, k], fill_value = 'extrapolate')\n",
        "        result[:, k] = f(t_to)\n",
        "    return result\n",
        "\n",
        "def load_landmarks(landmarks_path, max_len):\n",
        "        \"\"\"return landmarks & a list specifying if landmarks are available for each frame\"\"\"\n",
        "        with open(\"data_train/{}\".format(landmarks_path)) as f:\n",
        "            lines = f.readlines()\n",
        "        landmarks = []\n",
        "        is_available = []\n",
        "        for line in lines:\n",
        "            lands = list(filter(lambda x: len(x), line.strip('\\n').strip(' ').split(';')))\n",
        "            if len(lands):\n",
        "                is_available.append(True)\n",
        "                landmarks.append(lands)\n",
        "            else:\n",
        "                is_available.append(False)\n",
        "        landmarks = np.array(landmarks).astype('float32')   \n",
        "        is_available = np.asarray(is_available)\n",
        "        \n",
        "        t_from = np.linspace(0, max_len-1, len(is_available))\n",
        "        t_to = np.linspace(0, max_len-1, max_len)\n",
        "        t_from = t_from[is_available]\n",
        "        x_from = landmarks\n",
        "        a = interp(t_from, t_to, x_from)\n",
        "        return a\n",
        "\n",
        "def load_landmarks_test(landmarks_path, max_len):\n",
        "        \"\"\"return landmarks & a list specifying if landmarks are available for each frame\"\"\"\n",
        "        with open(\"data_test/{}\".format(landmarks_path)) as f:\n",
        "            lines = f.readlines()\n",
        "        landmarks = []\n",
        "        is_available = []\n",
        "        for line in lines:\n",
        "            lands = list(filter(lambda x: len(x), line.strip('\\n').strip(' ').split(';')))\n",
        "            if len(lands):\n",
        "                is_available.append(True)\n",
        "                landmarks.append(lands)\n",
        "            else:\n",
        "                is_available.append(False)\n",
        "        landmarks = np.array(landmarks).astype('float32')   \n",
        "        is_available = np.asarray(is_available)\n",
        "        \n",
        "        t_from = np.linspace(0, max_len-1, len(is_available))\n",
        "        t_to = np.linspace(0, max_len-1, max_len)\n",
        "        t_from = t_from[is_available]\n",
        "        x_from = landmarks\n",
        "        a = interp(t_from, t_to, x_from)\n",
        "        return a\n",
        "  \n",
        "def get_files(path):\n",
        "        \"\"\"get data files paths\"\"\"\n",
        "        with open(path, 'r') as f:\n",
        "            files = f.readlines()\n",
        "        return files\n",
        "\n",
        "annotation_path = 'data_train/train_annotations.txt'\n",
        "test_path = 'data_test/test_annotations.txt'\n",
        "\n",
        "file = get_files(annotation_path)\n",
        "test_file = get_files(test_path)  "
      ]
    },
    {
      "cell_type": "code",
      "execution_count": null,
      "id": "72f44882",
      "metadata": {
        "id": "72f44882"
      },
      "outputs": [],
      "source": [
        "outpaths=['landmarks/train_gesture_landmarks1497.txt',\n",
        "          'landmarks/train_gesture_landmarks2962.txt',\n",
        "          'landmarks/train_gesture_landmarks2988.txt']\n",
        "n = len(file)-3\n",
        "max_len = 60\n",
        "lands = np.zeros((n, max_len, 63)) \n",
        "i = 0\n",
        "labels = np.zeros((n))\n",
        "for f in file:\n",
        "  video, land, label, size = f.split(', ')\n",
        "  if land not in outpaths:\n",
        "    lands[i,...] = load_landmarks(land, max_len)\n",
        "    labels[i] = int(label)\n",
        "    i+=1\n",
        "\n",
        "outpaths=['landmarks/test_gesture_landmarks10.txt',\n",
        "          'landmarks/test_gesture_landmarks14.txt',\n",
        "          'landmarks/test_gesture_landmarks16.txt',\n",
        "          'landmarks/test_gesture_landmarks27.txt',\n",
        "          'landmarks/test_gesture_landmarks31.txt',\n",
        "          'landmarks/test_gesture_landmarks33.txt']\n",
        "n_test = len(test_file)-6\n",
        "\n",
        "lands_test = np.zeros((n_test, max_len, 63))\n",
        "i = 0\n",
        "list_id = []\n",
        "#labels = np.zeros((n_test))\n",
        "for f in test_file:\n",
        "    video, land, size = f.split(', ')\n",
        "    if land not in outpaths:\n",
        "      lands_test[i,...] = load_landmarks_test(land, max_len)\n",
        "      #labels[i] = int(label)\n",
        "      list_id.append(land)\n",
        "      i+=1\n",
        "list_id2 = []\n",
        "for i in list_id:\n",
        "    b = i.split('landmarks')\n",
        "    c = b[2].split('.')\n",
        "    #print(c)\n",
        "    list_id2.append(c[0])\n"
      ]
    },
    {
      "cell_type": "code",
      "source": [
        "\n",
        "import pdb\n",
        "Victor = True\n",
        "re_train = False\n",
        "if Victor:\n",
        "  time_step=1\n",
        "  list_features=[]\n",
        "  dist = np.zeros((lands.shape[0], max_len,210 ))\n",
        "  dist_lands = np.zeros((lands.shape[0], 273, max_len))\n",
        "  area = np.zeros((lands.shape[0], max_len,1330))\n",
        "  angle = np.zeros((lands.shape[0],  max_len,3990))\n",
        "  k = 0\n",
        "  for land in lands:\n",
        "    dist_matrix=[]\n",
        "    for i in range(21):\n",
        "      for j in range(i+1,21):\n",
        "        dist_matrix.append(np.sum((land[::time_step,3*i:3*i+3]-land[::time_step,3*j:3*j+3])**2,axis=1))\n",
        "  \n",
        "    dist_matrix=np.array(dist_matrix)\n",
        "    dist_lands[k, :210, :] = dist_matrix\n",
        "    dist_lands[k, 210:, :] = land.T\n",
        "    dist[k] = dist_matrix.T\n",
        "    k+=1\n",
        "\n",
        "  diff_lands = np.diff(lands, axis = 1)\n",
        "  diff_lands_test = np.diff(lands_test, axis = 1)\n",
        "  if re_train :\n",
        "    l=0\n",
        "    for land in lands:\n",
        "      area_matrix=[]\n",
        "      angle_matrix=[]\n",
        "      for i in range(21):\n",
        "        for j in range(i+1,21):\n",
        "          for k in range(j+1,21):\n",
        "            pt1 = land[::time_step,3*i:3*i+3]\n",
        "            pt2 = land[::time_step,3*j:3*j+3]\n",
        "            pt3 = land[::time_step,3*k:3*k+3]\n",
        "            a= np.sqrt(np.sum((pt3-pt1)**2,axis=1))\n",
        "            b= np.sqrt(np.sum((pt2-pt1)**2,axis=1))\n",
        "            c= np.sqrt(np.sum((pt3-pt2)**2,axis=1))\n",
        "            p = (a+b+c)/2\n",
        "            aire = np.sqrt(p*(p-a)*(p-b)*(p-c))\n",
        "            area_matrix.append(aire)\n",
        "            angle_matrix.append(np.sum(pt2*pt1,axis=1)*(1/(np.sqrt((np.sum(pt1*pt1,axis=1)*np.sum(pt2*pt2,axis=1))))))\n",
        "            angle_matrix.append(np.sum(pt3*pt1,axis=1)*(1/(np.sqrt((np.sum(pt1*pt1,axis=1)*np.sum(pt3*pt3,axis=1))))))\n",
        "            angle_matrix.append(np.sum(pt2*pt3,axis=1)*(1/(np.sqrt((np.sum(pt3*pt3,axis=1)*np.sum(pt2*pt2,axis=1))))))\n",
        "      angle_matrix=np.array(angle_matrix).T \n",
        "      area_matrix=np.array(area_matrix).T \n",
        "      angle[l]= angle_matrix\n",
        "      area[l] = area_matrix\n",
        "      l+=1\n",
        "\n",
        "  # X = dist_lands\n",
        "  # y = labels\n",
        "  # X_train=X[:2000]\n",
        "  # X_val=X[2000:]\n",
        "  # y_train=labels[:2000]\n",
        "  # y_val=labels[2000:]"
      ],
      "metadata": {
        "id": "6dhdAkU8W4GU"
      },
      "id": "6dhdAkU8W4GU",
      "execution_count": null,
      "outputs": []
    },
    {
      "cell_type": "code",
      "source": [
        "area = np.load('/content/drive/MyDrive/Data/DataChallenge/area.npy')\n",
        "angle = np.load('/content/drive/MyDrive/Data/DataChallenge/angle.npy')"
      ],
      "metadata": {
        "id": "dtT7e8l0NPBx"
      },
      "id": "dtT7e8l0NPBx",
      "execution_count": null,
      "outputs": []
    },
    {
      "cell_type": "code",
      "source": [
        "X1 = lands\n",
        "X2 = dist\n",
        "X3 = diff_lands\n",
        "X4 = area\n",
        "X5 = angle\n",
        "y = labels\n",
        "X1_train = X1[:2000]\n",
        "X1_val = X1[2000:]\n",
        "X2_train = X2[:2000]\n",
        "X2_val = X2[2000:]\n",
        "X3_train = X3[:2000]\n",
        "X3_val = X3[2000:]\n",
        "X4_train = X4[:2000]\n",
        "X4_val = X4[2000:]\n",
        "X5_train = X5[:2000]\n",
        "X5_val = X5[2000:]\n",
        "y_train = labels[:2000]\n",
        "y_val = labels[2000:]\n",
        "\n",
        "\n",
        "def to_cat(label):\n",
        "  li=np.zeros((13))\n",
        "  li[label-1]=1\n",
        "  return li\n",
        "\n",
        "y_train2,y_val2=[],[]\n",
        "\n",
        "for u in y_train:\n",
        "  y_train2.append(to_cat(int(u)))\n",
        "\n",
        "y_train2a=np.array(y_train2)"
      ],
      "metadata": {
        "id": "eAzlbAOHW7bG"
      },
      "id": "eAzlbAOHW7bG",
      "execution_count": null,
      "outputs": []
    },
    {
      "cell_type": "markdown",
      "source": [
        "# Modèle\n"
      ],
      "metadata": {
        "id": "nvxSi6YhpaKV"
      },
      "id": "nvxSi6YhpaKV"
    },
    {
      "cell_type": "code",
      "source": [
        "def create_clf(max_len):\n",
        " # create model\n",
        "  model = Sequential()\n",
        "  model.add(Conv1D(filters=50, kernel_size=7, activation='selu', input_shape=(max_len,63)))\n",
        "  # model.add(Conv1D(filters=150, kernel_size=7, activation='relu'))\n",
        "  model.add(MaxPooling1D(pool_size=3))\n",
        "  model.add(Conv1D(filters=300, kernel_size=7, activation='relu'))\n",
        "  model.add(Dropout(0.4))\n",
        "  model.add(MaxPooling1D(pool_size=3))\n",
        "  model.add(Flatten())\n",
        "  model.add(Dropout(0.4))\n",
        "  model.add(Dense(400, activation='relu'))\n",
        "  model.add(Dropout(0.4))\n",
        "  model.add(Dense(100, activation='relu'))\n",
        "  \n",
        "  model.add(layers.Dense(13,activation='softmax'))\n",
        " # Compile model\n",
        "  model.compile(loss=tf.keras.losses.CategoricalCrossentropy(from_logits=True), optimizer='adam', metrics=['accuracy'])\n",
        "  print(model.summary())\n",
        "  return model\n",
        "\n",
        "\n",
        "clf1=create_clf(max_len)\n",
        "hist =clf1.fit(X_train,y_train2a,epochs=100,validation_split=0.33)\n"
      ],
      "metadata": {
        "id": "74RuWvCzR1-k"
      },
      "id": "74RuWvCzR1-k",
      "execution_count": null,
      "outputs": []
    },
    {
      "cell_type": "markdown",
      "source": [
        "#Modèle suite\n"
      ],
      "metadata": {
        "id": "LHyaamRQQ1uh"
      },
      "id": "LHyaamRQQ1uh"
    },
    {
      "cell_type": "code",
      "source": [
        "def create_clf(max_len,size_features):\n",
        " # create model\n",
        " #Model A\n",
        "  input_lands = Input(shape=(max_len,63), name=\"Input_a\")\n",
        "  x= Conv1D(filters=64, kernel_size=7, activation='selu', input_shape=(max_len,63))(input_lands)\n",
        "  x= Conv1D(filters=128, kernel_size=5, activation='relu')(x)\n",
        "  x= MaxPooling1D(pool_size=3)(x)\n",
        "  x= Conv1D(filters=256, kernel_size=5, activation='relu')(x)\n",
        "  x= Dropout(0.5)(x)\n",
        "  x= MaxPooling1D(pool_size=3)(x)\n",
        "  x= Flatten()(x)\n",
        "  x= Dropout(0.5)(x)\n",
        "  x= Dense(400, activation='relu')(x)\n",
        "  x= Dropout(0.5)(x)\n",
        "  output_lands= Dense(100, activation='relu')(x)\n",
        "  \n",
        "  # output_clf = Dense(13,activation='softmax')(x)\n",
        "  # model = Model(inputs=[input_clf],outputs=[output_clf], name = \"Model_Nio\")\n",
        "\n",
        "  #Model B\n",
        "  input_dist = Input(shape=(max_len,210), name=\"Input_b\")\n",
        "  y= Conv1D(filters=64, kernel_size=7, activation='selu', input_shape=(max_len,210))(input_dist)\n",
        "  y= Conv1D(filters=128, kernel_size=5, activation='relu')(y)\n",
        "  y= MaxPooling1D(pool_size=3)(y)\n",
        "  y= Conv1D(filters=256, kernel_size=5, activation='relu')(y)\n",
        "  y= Dropout(0.5)(y)\n",
        "  y= MaxPooling1D(pool_size=3)(y)\n",
        "  y= Flatten()(y)\n",
        "  y= Dropout(0.5)(y)\n",
        "  y= Dense(300, activation='relu')(y)\n",
        "  y= Dropout(0.5)(y)\n",
        "  output_dist= Dense(100, activation='relu')(y)\n",
        "\n",
        "  input_diff = Input(shape=(max_len-1,63), name=\"Input_c\")\n",
        "  z= Conv1D(filters=64, kernel_size=7, activation='selu', input_shape=(max_len-1,63))(input_diff)\n",
        "  z= Conv1D(filters=128, kernel_size=5, activation='relu')(z)\n",
        "  z= MaxPooling1D(pool_size=3)(z)\n",
        "  z= Conv1D(filters=256, kernel_size=5, activation='relu')(z)\n",
        "  z= Dropout(0.5)(z)\n",
        "  z= MaxPooling1D(pool_size=3)(z)\n",
        "  z= Flatten()(z)\n",
        "  z= Dropout(0.5)(z)\n",
        "  z= Dense(300, activation='relu')(z)\n",
        "  z= Dropout(0.5)(z)\n",
        "  output_diff= Dense(100, activation='relu')(z)\n",
        "\n",
        "  input_area = Input(shape=(max_len,1330), name=\"Input_d\")\n",
        "  a= Conv1D(filters=64, kernel_size=7, activation='selu', input_shape=(max_len,1330))(input_area)\n",
        "  a= Conv1D(filters=128, kernel_size=5, activation='relu')(a)\n",
        "  a= MaxPooling1D(pool_size=3)(a)\n",
        "  a= Conv1D(filters=256, kernel_size=5, activation='relu')(a)\n",
        "  a= Dropout(0.5)(a)\n",
        "  a= MaxPooling1D(pool_size=3)(a)\n",
        "  a= Flatten()(a)\n",
        "  a= Dropout(0.5)(a)\n",
        "  a= Dense(300, activation='relu')(a)\n",
        "  a= Dropout(0.5)(a)\n",
        "  output_area= Dense(100, activation='relu')(a)\n",
        "\n",
        "  input_angle = Input(shape=(max_len,3*1330), name=\"Input_e\")\n",
        "  b= Conv1D(filters=64, kernel_size=7, activation='selu', input_shape=(max_len,3*1330))(input_angle)\n",
        "  b= Conv1D(filters=128, kernel_size=5, activation='relu')(b)\n",
        "  b= MaxPooling1D(pool_size=3)(b)\n",
        "  b= Conv1D(filters=256, kernel_size=5, activation='relu')(b)\n",
        "  b= Dropout(0.5)(b)\n",
        "  b= MaxPooling1D(pool_size=3)(b)\n",
        "  b= Flatten()(b)\n",
        "  b= Dropout(0.5)(b)\n",
        "  b= Dense(400, activation='relu')(b)\n",
        "  b= Dropout(0.5)(b)\n",
        "  output_angle= Dense(100, activation='relu')(b)\n",
        "  \n",
        "  a_b = concatenate([output_lands,output_dist, output_diff, output_area],name=\"concatenated_layer\")\n",
        "  last_layer = Dense(100, activation='relu')(a_b)\n",
        "  output_layer = Dense(13, activation = \"softmax\", name = \"output_layer\")(last_layer)\n",
        "\n",
        "  model = Model(inputs=[(input_lands,input_dist, input_diff, input_area)],outputs=[output_layer], name = \"merged_model\")\n",
        "\n",
        " # Compile model\n",
        "  model.compile(loss=tf.keras.losses.CategoricalCrossentropy(from_logits=True), optimizer='adam', metrics=['accuracy'])\n",
        "  model.summary()\n",
        "  keras.utils.plot_model(model, \"architecture.png\", show_shapes=True)\n",
        "  return model\n",
        "\n",
        "# def create_clf_Rocket(size_kernel):\n",
        "#     model = Sequential()\n",
        "#     model.add(Dense(250, activation='relu',input_shape=(size_kernel*2,)))\n",
        "#     model.add(Dropout(0.5))\n",
        "#     model.add(Dense(70, activation='relu'))\n",
        "#     return(model)\n",
        "\n",
        "clf1=create_clf(max_len,3780)\n",
        "# hist =clf1.fit(x=[X1_train,X2_train, X3_train, X4_train, X5_train],y=y_train2a,epochs=100,validation_split=0.33)\n",
        "\n",
        "# create_clf_Rocket(1870).summary()"
      ],
      "metadata": {
        "id": "kEluWoMh0K7_",
        "colab": {
          "base_uri": "https://localhost:8080/"
        },
        "outputId": "6c5b628a-b9f6-4f39-e506-e30a90a3a204"
      },
      "id": "kEluWoMh0K7_",
      "execution_count": null,
      "outputs": [
        {
          "output_type": "stream",
          "name": "stdout",
          "text": [
            "Model: \"merged_model\"\n",
            "__________________________________________________________________________________________________\n",
            " Layer (type)                   Output Shape         Param #     Connected to                     \n",
            "==================================================================================================\n",
            " Input_a (InputLayer)           [(None, 60, 63)]     0           []                               \n",
            "                                                                                                  \n",
            " Input_b (InputLayer)           [(None, 60, 210)]    0           []                               \n",
            "                                                                                                  \n",
            " Input_c (InputLayer)           [(None, 59, 63)]     0           []                               \n",
            "                                                                                                  \n",
            " Input_d (InputLayer)           [(None, 60, 1330)]   0           []                               \n",
            "                                                                                                  \n",
            " conv1d (Conv1D)                (None, 54, 64)       28288       ['Input_a[0][0]']                \n",
            "                                                                                                  \n",
            " conv1d_3 (Conv1D)              (None, 54, 64)       94144       ['Input_b[0][0]']                \n",
            "                                                                                                  \n",
            " conv1d_6 (Conv1D)              (None, 53, 64)       28288       ['Input_c[0][0]']                \n",
            "                                                                                                  \n",
            " conv1d_9 (Conv1D)              (None, 54, 64)       595904      ['Input_d[0][0]']                \n",
            "                                                                                                  \n",
            " conv1d_1 (Conv1D)              (None, 50, 128)      41088       ['conv1d[0][0]']                 \n",
            "                                                                                                  \n",
            " conv1d_4 (Conv1D)              (None, 50, 128)      41088       ['conv1d_3[0][0]']               \n",
            "                                                                                                  \n",
            " conv1d_7 (Conv1D)              (None, 49, 128)      41088       ['conv1d_6[0][0]']               \n",
            "                                                                                                  \n",
            " conv1d_10 (Conv1D)             (None, 50, 128)      41088       ['conv1d_9[0][0]']               \n",
            "                                                                                                  \n",
            " max_pooling1d (MaxPooling1D)   (None, 16, 128)      0           ['conv1d_1[0][0]']               \n",
            "                                                                                                  \n",
            " max_pooling1d_2 (MaxPooling1D)  (None, 16, 128)     0           ['conv1d_4[0][0]']               \n",
            "                                                                                                  \n",
            " max_pooling1d_4 (MaxPooling1D)  (None, 16, 128)     0           ['conv1d_7[0][0]']               \n",
            "                                                                                                  \n",
            " max_pooling1d_6 (MaxPooling1D)  (None, 16, 128)     0           ['conv1d_10[0][0]']              \n",
            "                                                                                                  \n",
            " conv1d_2 (Conv1D)              (None, 12, 256)      164096      ['max_pooling1d[0][0]']          \n",
            "                                                                                                  \n",
            " conv1d_5 (Conv1D)              (None, 12, 256)      164096      ['max_pooling1d_2[0][0]']        \n",
            "                                                                                                  \n",
            " conv1d_8 (Conv1D)              (None, 12, 256)      164096      ['max_pooling1d_4[0][0]']        \n",
            "                                                                                                  \n",
            " conv1d_11 (Conv1D)             (None, 12, 256)      164096      ['max_pooling1d_6[0][0]']        \n",
            "                                                                                                  \n",
            " dropout (Dropout)              (None, 12, 256)      0           ['conv1d_2[0][0]']               \n",
            "                                                                                                  \n",
            " dropout_3 (Dropout)            (None, 12, 256)      0           ['conv1d_5[0][0]']               \n",
            "                                                                                                  \n",
            " dropout_6 (Dropout)            (None, 12, 256)      0           ['conv1d_8[0][0]']               \n",
            "                                                                                                  \n",
            " dropout_9 (Dropout)            (None, 12, 256)      0           ['conv1d_11[0][0]']              \n",
            "                                                                                                  \n",
            " max_pooling1d_1 (MaxPooling1D)  (None, 4, 256)      0           ['dropout[0][0]']                \n",
            "                                                                                                  \n",
            " max_pooling1d_3 (MaxPooling1D)  (None, 4, 256)      0           ['dropout_3[0][0]']              \n",
            "                                                                                                  \n",
            " max_pooling1d_5 (MaxPooling1D)  (None, 4, 256)      0           ['dropout_6[0][0]']              \n",
            "                                                                                                  \n",
            " max_pooling1d_7 (MaxPooling1D)  (None, 4, 256)      0           ['dropout_9[0][0]']              \n",
            "                                                                                                  \n",
            " flatten (Flatten)              (None, 1024)         0           ['max_pooling1d_1[0][0]']        \n",
            "                                                                                                  \n",
            " flatten_1 (Flatten)            (None, 1024)         0           ['max_pooling1d_3[0][0]']        \n",
            "                                                                                                  \n",
            " flatten_2 (Flatten)            (None, 1024)         0           ['max_pooling1d_5[0][0]']        \n",
            "                                                                                                  \n",
            " flatten_3 (Flatten)            (None, 1024)         0           ['max_pooling1d_7[0][0]']        \n",
            "                                                                                                  \n",
            " dropout_1 (Dropout)            (None, 1024)         0           ['flatten[0][0]']                \n",
            "                                                                                                  \n",
            " dropout_4 (Dropout)            (None, 1024)         0           ['flatten_1[0][0]']              \n",
            "                                                                                                  \n",
            " dropout_7 (Dropout)            (None, 1024)         0           ['flatten_2[0][0]']              \n",
            "                                                                                                  \n",
            " dropout_10 (Dropout)           (None, 1024)         0           ['flatten_3[0][0]']              \n",
            "                                                                                                  \n",
            " dense (Dense)                  (None, 400)          410000      ['dropout_1[0][0]']              \n",
            "                                                                                                  \n",
            " dense_2 (Dense)                (None, 300)          307500      ['dropout_4[0][0]']              \n",
            "                                                                                                  \n",
            " dense_4 (Dense)                (None, 300)          307500      ['dropout_7[0][0]']              \n",
            "                                                                                                  \n",
            " dense_6 (Dense)                (None, 300)          307500      ['dropout_10[0][0]']             \n",
            "                                                                                                  \n",
            " dropout_2 (Dropout)            (None, 400)          0           ['dense[0][0]']                  \n",
            "                                                                                                  \n",
            " dropout_5 (Dropout)            (None, 300)          0           ['dense_2[0][0]']                \n",
            "                                                                                                  \n",
            " dropout_8 (Dropout)            (None, 300)          0           ['dense_4[0][0]']                \n",
            "                                                                                                  \n",
            " dropout_11 (Dropout)           (None, 300)          0           ['dense_6[0][0]']                \n",
            "                                                                                                  \n",
            " dense_1 (Dense)                (None, 100)          40100       ['dropout_2[0][0]']              \n",
            "                                                                                                  \n",
            " dense_3 (Dense)                (None, 100)          30100       ['dropout_5[0][0]']              \n",
            "                                                                                                  \n",
            " dense_5 (Dense)                (None, 100)          30100       ['dropout_8[0][0]']              \n",
            "                                                                                                  \n",
            " dense_7 (Dense)                (None, 100)          30100       ['dropout_11[0][0]']             \n",
            "                                                                                                  \n",
            " concatenated_layer (Concatenat  (None, 400)         0           ['dense_1[0][0]',                \n",
            " e)                                                               'dense_3[0][0]',                \n",
            "                                                                  'dense_5[0][0]',                \n",
            "                                                                  'dense_7[0][0]']                \n",
            "                                                                                                  \n",
            " dense_10 (Dense)               (None, 100)          40100       ['concatenated_layer[0][0]']     \n",
            "                                                                                                  \n",
            " output_layer (Dense)           (None, 13)           1313        ['dense_10[0][0]']               \n",
            "                                                                                                  \n",
            "==================================================================================================\n",
            "Total params: 3,071,673\n",
            "Trainable params: 3,071,673\n",
            "Non-trainable params: 0\n",
            "__________________________________________________________________________________________________\n"
          ]
        }
      ]
    },
    {
      "cell_type": "code",
      "source": [
        "!pip install visualkeras\n"
      ],
      "metadata": {
        "colab": {
          "base_uri": "https://localhost:8080/"
        },
        "id": "oL2OgC6Lce4S",
        "outputId": "e398578e-b73a-4ce9-8908-1662e1ec2361"
      },
      "id": "oL2OgC6Lce4S",
      "execution_count": null,
      "outputs": [
        {
          "output_type": "stream",
          "name": "stdout",
          "text": [
            "Looking in indexes: https://pypi.org/simple, https://us-python.pkg.dev/colab-wheels/public/simple/\n",
            "Collecting visualkeras\n",
            "  Downloading visualkeras-0.0.2-py3-none-any.whl (12 kB)\n",
            "Collecting aggdraw>=1.3.11\n",
            "  Downloading aggdraw-1.3.15-cp38-cp38-manylinux_2_17_x86_64.manylinux2014_x86_64.whl (992 kB)\n",
            "\u001b[2K     \u001b[90m━━━━━━━━━━━━━━━━━━━━━━━━━━━━━━━━━━━━━━\u001b[0m \u001b[32m992.2/992.2 KB\u001b[0m \u001b[31m58.8 MB/s\u001b[0m eta \u001b[36m0:00:00\u001b[0m\n",
            "\u001b[?25hRequirement already satisfied: numpy>=1.18.1 in /usr/local/lib/python3.8/dist-packages (from visualkeras) (1.21.6)\n",
            "Requirement already satisfied: pillow>=6.2.0 in /usr/local/lib/python3.8/dist-packages (from visualkeras) (7.1.2)\n",
            "Installing collected packages: aggdraw, visualkeras\n",
            "Successfully installed aggdraw-1.3.15 visualkeras-0.0.2\n"
          ]
        }
      ]
    },
    {
      "cell_type": "code",
      "source": [
        "def create_clf(max_len,size_features):\n",
        " # create model\n",
        " #Model A\n",
        "  input_lands = Input(shape=(max_len,63), name=\"Input_a\")\n",
        "  x= Conv1D(filters=64, kernel_size=7, activation='selu', input_shape=(max_len,63))(input_lands)\n",
        "  x= Conv1D(filters=128, kernel_size=5, activation='relu')(x)\n",
        "  x= MaxPooling1D(pool_size=3)(x)\n",
        "  x= Conv1D(filters=256, kernel_size=5, activation='relu')(x)\n",
        "  x= Dropout(0.5)(x)\n",
        "  x= MaxPooling1D(pool_size=3)(x)\n",
        "  x= Flatten()(x)\n",
        "  x= Dropout(0.5)(x)\n",
        "  x= Dense(400, activation='relu')(x)\n",
        "  x= Dropout(0.5)(x)\n",
        "  output_lands= Dense(100, activation='relu')(x)\n",
        "  \n",
        "  \n",
        "\n",
        "  model = Model(inputs=[input_lands],outputs=[output_lands], name = \"merged_model\")\n",
        "\n",
        " # Compile model\n",
        "  # model.compile(loss=tf.keras.losses.CategoricalCrossentropy(from_logits=True), optimizer='adam', metrics=['accuracy'])\n",
        "  # model.summary()\n",
        "  keras.utils.plot_model(model, \"architecture.png\", show_shapes=True)\n",
        "  return model\n",
        "\n",
        "\n",
        "clf1=create_clf(max_len,3780)\n",
        "\n",
        "# create_clf_Rocket(1870).summary()"
      ],
      "metadata": {
        "id": "xUhshhBrck21"
      },
      "id": "xUhshhBrck21",
      "execution_count": null,
      "outputs": []
    },
    {
      "cell_type": "code",
      "source": [
        "!pip install visualkeras\n",
        "import visualkeras\n",
        "import tensorflow as tf\n",
        "from tensorflow.keras import layers\n",
        "from collections import defaultdict\n",
        "\n",
        "color_map = defaultdict(dict)\n",
        "color_map[layers.Conv2D]['fill'] = '#00f5d4'\n",
        "color_map[layers.MaxPooling2D]['fill'] = '#8338ec'\n",
        "color_map[layers.Dropout]['fill'] = '#03045e'\n",
        "color_map[layers.Dense]['fill'] = '#fb5607'\n",
        "color_map[layers.Flatten]['fill'] = '#ffbe0b'\n",
        "visualkeras.layered_view(clf1, legend=True, draw_volume=False)"
      ],
      "metadata": {
        "colab": {
          "base_uri": "https://localhost:8080/",
          "height": 480
        },
        "id": "dWaG35Eii9XT",
        "outputId": "42b12c2c-e0ac-4623-99c5-9e0ee9de488b"
      },
      "id": "dWaG35Eii9XT",
      "execution_count": null,
      "outputs": [
        {
          "output_type": "stream",
          "name": "stdout",
          "text": [
            "Looking in indexes: https://pypi.org/simple, https://us-python.pkg.dev/colab-wheels/public/simple/\n",
            "Requirement already satisfied: visualkeras in /usr/local/lib/python3.8/dist-packages (0.0.2)\n",
            "Requirement already satisfied: numpy>=1.18.1 in /usr/local/lib/python3.8/dist-packages (from visualkeras) (1.21.6)\n",
            "Requirement already satisfied: pillow>=6.2.0 in /usr/local/lib/python3.8/dist-packages (from visualkeras) (7.1.2)\n",
            "Requirement already satisfied: aggdraw>=1.3.11 in /usr/local/lib/python3.8/dist-packages (from visualkeras) (1.3.15)\n"
          ]
        },
        {
          "output_type": "error",
          "ename": "TypeError",
          "evalue": "ignored",
          "traceback": [
            "\u001b[0;31m---------------------------------------------------------------------------\u001b[0m",
            "\u001b[0;31mTypeError\u001b[0m                                 Traceback (most recent call last)",
            "\u001b[0;32m<ipython-input-30-358126885489>\u001b[0m in \u001b[0;36m<module>\u001b[0;34m\u001b[0m\n\u001b[1;32m     11\u001b[0m \u001b[0mcolor_map\u001b[0m\u001b[0;34m[\u001b[0m\u001b[0mlayers\u001b[0m\u001b[0;34m.\u001b[0m\u001b[0mDense\u001b[0m\u001b[0;34m]\u001b[0m\u001b[0;34m[\u001b[0m\u001b[0;34m'fill'\u001b[0m\u001b[0;34m]\u001b[0m \u001b[0;34m=\u001b[0m \u001b[0;34m'#fb5607'\u001b[0m\u001b[0;34m\u001b[0m\u001b[0;34m\u001b[0m\u001b[0m\n\u001b[1;32m     12\u001b[0m \u001b[0mcolor_map\u001b[0m\u001b[0;34m[\u001b[0m\u001b[0mlayers\u001b[0m\u001b[0;34m.\u001b[0m\u001b[0mFlatten\u001b[0m\u001b[0;34m]\u001b[0m\u001b[0;34m[\u001b[0m\u001b[0;34m'fill'\u001b[0m\u001b[0;34m]\u001b[0m \u001b[0;34m=\u001b[0m \u001b[0;34m'#ffbe0b'\u001b[0m\u001b[0;34m\u001b[0m\u001b[0;34m\u001b[0m\u001b[0m\n\u001b[0;32m---> 13\u001b[0;31m \u001b[0mvisualkeras\u001b[0m\u001b[0;34m.\u001b[0m\u001b[0mlayered_view\u001b[0m\u001b[0;34m(\u001b[0m\u001b[0mclf1\u001b[0m\u001b[0;34m,\u001b[0m \u001b[0mlegend\u001b[0m\u001b[0;34m=\u001b[0m\u001b[0;32mTrue\u001b[0m\u001b[0;34m,\u001b[0m \u001b[0mdraw_volume\u001b[0m\u001b[0;34m=\u001b[0m\u001b[0;32mFalse\u001b[0m\u001b[0;34m)\u001b[0m\u001b[0;34m\u001b[0m\u001b[0;34m\u001b[0m\u001b[0m\n\u001b[0m",
            "\u001b[0;32m/usr/local/lib/python3.8/dist-packages/visualkeras/layered.py\u001b[0m in \u001b[0;36mlayered_view\u001b[0;34m(model, to_file, min_z, min_xy, max_z, max_xy, scale_z, scale_xy, type_ignore, index_ignore, color_map, one_dim_orientation, background_fill, draw_volume, padding, spacing, draw_funnel, shade_step, legend, font, font_color)\u001b[0m\n\u001b[1;32m     98\u001b[0m             \u001b[0mx\u001b[0m \u001b[0;34m=\u001b[0m \u001b[0mmin\u001b[0m\u001b[0;34m(\u001b[0m\u001b[0mmax\u001b[0m\u001b[0;34m(\u001b[0m\u001b[0mshape\u001b[0m\u001b[0;34m[\u001b[0m\u001b[0;36m1\u001b[0m\u001b[0;34m]\u001b[0m \u001b[0;34m*\u001b[0m \u001b[0mscale_xy\u001b[0m\u001b[0;34m,\u001b[0m \u001b[0mx\u001b[0m\u001b[0;34m)\u001b[0m\u001b[0;34m,\u001b[0m \u001b[0mmax_xy\u001b[0m\u001b[0;34m)\u001b[0m\u001b[0;34m\u001b[0m\u001b[0;34m\u001b[0m\u001b[0m\n\u001b[1;32m     99\u001b[0m             \u001b[0my\u001b[0m \u001b[0;34m=\u001b[0m \u001b[0mmin\u001b[0m\u001b[0;34m(\u001b[0m\u001b[0mmax\u001b[0m\u001b[0;34m(\u001b[0m\u001b[0mshape\u001b[0m\u001b[0;34m[\u001b[0m\u001b[0;36m2\u001b[0m\u001b[0;34m]\u001b[0m \u001b[0;34m*\u001b[0m \u001b[0mscale_xy\u001b[0m\u001b[0;34m,\u001b[0m \u001b[0my\u001b[0m\u001b[0;34m)\u001b[0m\u001b[0;34m,\u001b[0m \u001b[0mmax_xy\u001b[0m\u001b[0;34m)\u001b[0m\u001b[0;34m\u001b[0m\u001b[0;34m\u001b[0m\u001b[0m\n\u001b[0;32m--> 100\u001b[0;31m             \u001b[0mz\u001b[0m \u001b[0;34m=\u001b[0m \u001b[0mmin\u001b[0m\u001b[0;34m(\u001b[0m\u001b[0mmax\u001b[0m\u001b[0;34m(\u001b[0m\u001b[0mz\u001b[0m\u001b[0;34m)\u001b[0m\u001b[0;34m,\u001b[0m \u001b[0mmax_z\u001b[0m\u001b[0;34m)\u001b[0m\u001b[0;34m\u001b[0m\u001b[0;34m\u001b[0m\u001b[0m\n\u001b[0m\u001b[1;32m    101\u001b[0m         \u001b[0;32melif\u001b[0m \u001b[0mlen\u001b[0m\u001b[0;34m(\u001b[0m\u001b[0mshape\u001b[0m\u001b[0;34m)\u001b[0m \u001b[0;34m==\u001b[0m \u001b[0;36m2\u001b[0m\u001b[0;34m:\u001b[0m\u001b[0;34m\u001b[0m\u001b[0;34m\u001b[0m\u001b[0m\n\u001b[1;32m    102\u001b[0m             \u001b[0;32mif\u001b[0m \u001b[0mone_dim_orientation\u001b[0m \u001b[0;34m==\u001b[0m \u001b[0;34m'x'\u001b[0m\u001b[0;34m:\u001b[0m\u001b[0;34m\u001b[0m\u001b[0;34m\u001b[0m\u001b[0m\n",
            "\u001b[0;31mTypeError\u001b[0m: 'int' object is not iterable"
          ]
        }
      ]
    },
    {
      "cell_type": "code",
      "source": [
        "clf1.summary()"
      ],
      "metadata": {
        "colab": {
          "base_uri": "https://localhost:8080/"
        },
        "id": "DhRVDU20juto",
        "outputId": "e161c295-18b1-4c47-bfb3-871426f3f529"
      },
      "id": "DhRVDU20juto",
      "execution_count": null,
      "outputs": [
        {
          "output_type": "stream",
          "name": "stdout",
          "text": [
            "Model: \"merged_model\"\n",
            "_________________________________________________________________\n",
            " Layer (type)                Output Shape              Param #   \n",
            "=================================================================\n",
            " Input_e (InputLayer)        [(None, 60, 19)]          0         \n",
            "                                                                 \n",
            " conv1d_27 (Conv1D)          (None, 54, 64)            8576      \n",
            "                                                                 \n",
            " conv1d_28 (Conv1D)          (None, 50, 128)           41088     \n",
            "                                                                 \n",
            " max_pooling1d_18 (MaxPoolin  (None, 16, 128)          0         \n",
            " g1D)                                                            \n",
            "                                                                 \n",
            " conv1d_29 (Conv1D)          (None, 12, 256)           164096    \n",
            "                                                                 \n",
            " dropout_27 (Dropout)        (None, 12, 256)           0         \n",
            "                                                                 \n",
            " max_pooling1d_19 (MaxPoolin  (None, 4, 256)           0         \n",
            " g1D)                                                            \n",
            "                                                                 \n",
            " flatten_9 (Flatten)         (None, 1024)              0         \n",
            "                                                                 \n",
            " dropout_28 (Dropout)        (None, 1024)              0         \n",
            "                                                                 \n",
            " dense_19 (Dense)            (None, 400)               410000    \n",
            "                                                                 \n",
            " dropout_29 (Dropout)        (None, 400)               0         \n",
            "                                                                 \n",
            " dense_20 (Dense)            (None, 100)               40100     \n",
            "                                                                 \n",
            "=================================================================\n",
            "Total params: 663,860\n",
            "Trainable params: 663,860\n",
            "Non-trainable params: 0\n",
            "_________________________________________________________________\n"
          ]
        }
      ]
    },
    {
      "cell_type": "code",
      "source": [
        "def scheduler(epoch, lr):\n",
        "  if epoch < 70:\n",
        "    return lr\n",
        "  else:\n",
        "    return lr * tf.math.exp(-0.05)\n",
        "\n",
        "checkpoint_filepath = 'checkpoint/'\n",
        "model_checkpoint_callback = tf.keras.callbacks.ModelCheckpoint(\n",
        "    filepath=checkpoint_filepath,\n",
        "    save_weights_only=True,\n",
        "    monitor='val_accuracy',\n",
        "    mode='max',\n",
        "    save_best_only=True)\n",
        "callback = tf.keras.callbacks.LearningRateScheduler(scheduler)\n",
        "\n",
        "hist =clf1.fit(x=[X1_train,X2_train, X3_train, X4_train],y=y_train2a,epochs=100,validation_split=0.33,callbacks=[model_checkpoint_callback,callback],shuffle=False)\n",
        "\n",
        "clf1.load_weights(checkpoint_filepath)"
      ],
      "metadata": {
        "colab": {
          "base_uri": "https://localhost:8080/"
        },
        "id": "UW2YUhelT1Bm",
        "outputId": "f1cbbd00-3485-4af5-d4b6-4653cffb3cb3"
      },
      "id": "UW2YUhelT1Bm",
      "execution_count": null,
      "outputs": [
        {
          "output_type": "stream",
          "name": "stdout",
          "text": [
            "Epoch 1/100\n",
            "42/42 [==============================] - 69s 59ms/step - loss: 1.6221 - accuracy: 0.4361 - val_loss: 1.3071 - val_accuracy: 0.5658 - lr: 0.0010\n",
            "Epoch 2/100\n",
            "42/42 [==============================] - 2s 54ms/step - loss: 1.0867 - accuracy: 0.6131 - val_loss: 1.1436 - val_accuracy: 0.6021 - lr: 0.0010\n",
            "Epoch 3/100\n",
            "42/42 [==============================] - 2s 39ms/step - loss: 0.8573 - accuracy: 0.6826 - val_loss: 0.8350 - val_accuracy: 0.7247 - lr: 0.0010\n",
            "Epoch 4/100\n",
            "42/42 [==============================] - 1s 34ms/step - loss: 0.6899 - accuracy: 0.7640 - val_loss: 0.6927 - val_accuracy: 0.7443 - lr: 0.0010\n",
            "Epoch 5/100\n",
            "42/42 [==============================] - 1s 32ms/step - loss: 0.5571 - accuracy: 0.8073 - val_loss: 0.6479 - val_accuracy: 0.7867 - lr: 0.0010\n",
            "Epoch 6/100\n",
            "42/42 [==============================] - 1s 32ms/step - loss: 0.6012 - accuracy: 0.7886 - val_loss: 0.6420 - val_accuracy: 0.7988 - lr: 0.0010\n",
            "Epoch 7/100\n",
            "42/42 [==============================] - 1s 34ms/step - loss: 0.5141 - accuracy: 0.8297 - val_loss: 0.5205 - val_accuracy: 0.8169 - lr: 0.0010\n",
            "Epoch 8/100\n",
            "42/42 [==============================] - 1s 33ms/step - loss: 0.4544 - accuracy: 0.8439 - val_loss: 0.5060 - val_accuracy: 0.8714 - lr: 0.0010\n",
            "Epoch 9/100\n",
            "42/42 [==============================] - 1s 28ms/step - loss: 0.3914 - accuracy: 0.8641 - val_loss: 0.5010 - val_accuracy: 0.8638 - lr: 0.0010\n",
            "Epoch 10/100\n",
            "42/42 [==============================] - 1s 28ms/step - loss: 0.5072 - accuracy: 0.8327 - val_loss: 0.5786 - val_accuracy: 0.8427 - lr: 0.0010\n",
            "Epoch 11/100\n",
            "42/42 [==============================] - 2s 36ms/step - loss: 0.4264 - accuracy: 0.8506 - val_loss: 0.5748 - val_accuracy: 0.8275 - lr: 0.0010\n",
            "Epoch 12/100\n",
            "42/42 [==============================] - 2s 46ms/step - loss: 0.2922 - accuracy: 0.8984 - val_loss: 0.4583 - val_accuracy: 0.8714 - lr: 0.0010\n",
            "Epoch 13/100\n",
            "42/42 [==============================] - 1s 27ms/step - loss: 0.3244 - accuracy: 0.8880 - val_loss: 0.5426 - val_accuracy: 0.8517 - lr: 0.0010\n",
            "Epoch 14/100\n",
            "42/42 [==============================] - 1s 28ms/step - loss: 0.2878 - accuracy: 0.9029 - val_loss: 0.5352 - val_accuracy: 0.8336 - lr: 0.0010\n",
            "Epoch 15/100\n",
            "42/42 [==============================] - 1s 27ms/step - loss: 0.2520 - accuracy: 0.9096 - val_loss: 0.4678 - val_accuracy: 0.8623 - lr: 0.0010\n",
            "Epoch 16/100\n",
            "42/42 [==============================] - 1s 27ms/step - loss: 0.2533 - accuracy: 0.9104 - val_loss: 0.5057 - val_accuracy: 0.8533 - lr: 0.0010\n",
            "Epoch 17/100\n",
            "42/42 [==============================] - 1s 35ms/step - loss: 0.2313 - accuracy: 0.9201 - val_loss: 0.3396 - val_accuracy: 0.9062 - lr: 0.0010\n",
            "Epoch 18/100\n",
            "42/42 [==============================] - 1s 27ms/step - loss: 0.2122 - accuracy: 0.9231 - val_loss: 0.3512 - val_accuracy: 0.8986 - lr: 0.0010\n",
            "Epoch 19/100\n",
            "42/42 [==============================] - 1s 28ms/step - loss: 0.1802 - accuracy: 0.9313 - val_loss: 0.3678 - val_accuracy: 0.8926 - lr: 0.0010\n",
            "Epoch 20/100\n",
            "42/42 [==============================] - 1s 26ms/step - loss: 0.1891 - accuracy: 0.9328 - val_loss: 0.5241 - val_accuracy: 0.8638 - lr: 0.0010\n",
            "Epoch 21/100\n",
            "42/42 [==============================] - 1s 35ms/step - loss: 0.2031 - accuracy: 0.9283 - val_loss: 0.4783 - val_accuracy: 0.8654 - lr: 0.0010\n",
            "Epoch 22/100\n",
            "42/42 [==============================] - 2s 36ms/step - loss: 0.1993 - accuracy: 0.9365 - val_loss: 0.3834 - val_accuracy: 0.8911 - lr: 0.0010\n",
            "Epoch 23/100\n",
            "42/42 [==============================] - 1s 34ms/step - loss: 0.2096 - accuracy: 0.9298 - val_loss: 0.4032 - val_accuracy: 0.8669 - lr: 0.0010\n",
            "Epoch 24/100\n",
            "42/42 [==============================] - 1s 29ms/step - loss: 0.1862 - accuracy: 0.9343 - val_loss: 0.3881 - val_accuracy: 0.8956 - lr: 0.0010\n",
            "Epoch 25/100\n",
            "42/42 [==============================] - 1s 27ms/step - loss: 0.1330 - accuracy: 0.9507 - val_loss: 0.6038 - val_accuracy: 0.8638 - lr: 0.0010\n",
            "Epoch 26/100\n",
            "42/42 [==============================] - 1s 29ms/step - loss: 0.1642 - accuracy: 0.9440 - val_loss: 0.3962 - val_accuracy: 0.9002 - lr: 0.0010\n",
            "Epoch 27/100\n",
            "42/42 [==============================] - 1s 28ms/step - loss: 0.1534 - accuracy: 0.9410 - val_loss: 0.3415 - val_accuracy: 0.9047 - lr: 0.0010\n",
            "Epoch 28/100\n",
            "42/42 [==============================] - 1s 28ms/step - loss: 0.1264 - accuracy: 0.9642 - val_loss: 0.5018 - val_accuracy: 0.8714 - lr: 0.0010\n",
            "Epoch 29/100\n",
            "42/42 [==============================] - 1s 28ms/step - loss: 0.1228 - accuracy: 0.9552 - val_loss: 0.4015 - val_accuracy: 0.8986 - lr: 0.0010\n",
            "Epoch 30/100\n",
            "42/42 [==============================] - 1s 27ms/step - loss: 0.1324 - accuracy: 0.9507 - val_loss: 0.4768 - val_accuracy: 0.9062 - lr: 0.0010\n",
            "Epoch 31/100\n",
            "42/42 [==============================] - 1s 27ms/step - loss: 0.2602 - accuracy: 0.9261 - val_loss: 0.3880 - val_accuracy: 0.8971 - lr: 0.0010\n",
            "Epoch 32/100\n",
            "42/42 [==============================] - 1s 35ms/step - loss: 0.2068 - accuracy: 0.9238 - val_loss: 0.4415 - val_accuracy: 0.8971 - lr: 0.0010\n",
            "Epoch 33/100\n",
            "42/42 [==============================] - 2s 37ms/step - loss: 0.1192 - accuracy: 0.9559 - val_loss: 0.5324 - val_accuracy: 0.8790 - lr: 0.0010\n",
            "Epoch 34/100\n",
            "42/42 [==============================] - 1s 34ms/step - loss: 0.1674 - accuracy: 0.9492 - val_loss: 0.4605 - val_accuracy: 0.8865 - lr: 0.0010\n",
            "Epoch 35/100\n",
            "42/42 [==============================] - 1s 29ms/step - loss: 0.1584 - accuracy: 0.9455 - val_loss: 0.4751 - val_accuracy: 0.8911 - lr: 0.0010\n",
            "Epoch 36/100\n",
            "42/42 [==============================] - 1s 29ms/step - loss: 0.2233 - accuracy: 0.9388 - val_loss: 0.6189 - val_accuracy: 0.8472 - lr: 0.0010\n",
            "Epoch 37/100\n",
            "42/42 [==============================] - 1s 26ms/step - loss: 0.3241 - accuracy: 0.9141 - val_loss: 0.4717 - val_accuracy: 0.8623 - lr: 0.0010\n",
            "Epoch 38/100\n",
            "42/42 [==============================] - 1s 25ms/step - loss: 0.2234 - accuracy: 0.9283 - val_loss: 0.4757 - val_accuracy: 0.8911 - lr: 0.0010\n",
            "Epoch 39/100\n",
            "42/42 [==============================] - 1s 26ms/step - loss: 0.1827 - accuracy: 0.9380 - val_loss: 0.4644 - val_accuracy: 0.8835 - lr: 0.0010\n",
            "Epoch 40/100\n",
            "42/42 [==============================] - 1s 29ms/step - loss: 0.1091 - accuracy: 0.9612 - val_loss: 0.5000 - val_accuracy: 0.8880 - lr: 0.0010\n",
            "Epoch 41/100\n",
            "42/42 [==============================] - 1s 28ms/step - loss: 0.0821 - accuracy: 0.9679 - val_loss: 0.4180 - val_accuracy: 0.8926 - lr: 0.0010\n",
            "Epoch 42/100\n",
            "42/42 [==============================] - 1s 26ms/step - loss: 0.0680 - accuracy: 0.9739 - val_loss: 0.4625 - val_accuracy: 0.9002 - lr: 0.0010\n",
            "Epoch 43/100\n",
            "42/42 [==============================] - 1s 32ms/step - loss: 0.0896 - accuracy: 0.9686 - val_loss: 0.5838 - val_accuracy: 0.8865 - lr: 0.0010\n",
            "Epoch 44/100\n",
            "42/42 [==============================] - 1s 35ms/step - loss: 0.0678 - accuracy: 0.9724 - val_loss: 0.4940 - val_accuracy: 0.8850 - lr: 0.0010\n",
            "Epoch 45/100\n",
            "42/42 [==============================] - 2s 37ms/step - loss: 0.0635 - accuracy: 0.9754 - val_loss: 0.5740 - val_accuracy: 0.8744 - lr: 0.0010\n",
            "Epoch 46/100\n",
            "42/42 [==============================] - 1s 29ms/step - loss: 0.0855 - accuracy: 0.9724 - val_loss: 0.4135 - val_accuracy: 0.9032 - lr: 0.0010\n",
            "Epoch 47/100\n",
            "42/42 [==============================] - 1s 26ms/step - loss: 0.1098 - accuracy: 0.9634 - val_loss: 0.5836 - val_accuracy: 0.8669 - lr: 0.0010\n",
            "Epoch 48/100\n",
            "42/42 [==============================] - 1s 27ms/step - loss: 0.0690 - accuracy: 0.9791 - val_loss: 0.4487 - val_accuracy: 0.8850 - lr: 0.0010\n",
            "Epoch 49/100\n",
            "42/42 [==============================] - 1s 27ms/step - loss: 0.0688 - accuracy: 0.9768 - val_loss: 0.7273 - val_accuracy: 0.8578 - lr: 0.0010\n",
            "Epoch 50/100\n",
            "42/42 [==============================] - 1s 30ms/step - loss: 0.1347 - accuracy: 0.9559 - val_loss: 0.4594 - val_accuracy: 0.8911 - lr: 0.0010\n",
            "Epoch 51/100\n",
            "42/42 [==============================] - 1s 30ms/step - loss: 0.0963 - accuracy: 0.9634 - val_loss: 0.3641 - val_accuracy: 0.9017 - lr: 0.0010\n",
            "Epoch 52/100\n",
            "42/42 [==============================] - 1s 27ms/step - loss: 0.0547 - accuracy: 0.9843 - val_loss: 0.4422 - val_accuracy: 0.9032 - lr: 0.0010\n",
            "Epoch 53/100\n",
            "42/42 [==============================] - 1s 27ms/step - loss: 0.0537 - accuracy: 0.9821 - val_loss: 0.4360 - val_accuracy: 0.9047 - lr: 0.0010\n",
            "Epoch 54/100\n",
            "42/42 [==============================] - 1s 33ms/step - loss: 0.0517 - accuracy: 0.9813 - val_loss: 0.4600 - val_accuracy: 0.8956 - lr: 0.0010\n",
            "Epoch 55/100\n",
            "42/42 [==============================] - 2s 36ms/step - loss: 0.0729 - accuracy: 0.9754 - val_loss: 0.3904 - val_accuracy: 0.8971 - lr: 0.0010\n",
            "Epoch 56/100\n",
            "42/42 [==============================] - 1s 35ms/step - loss: 0.1458 - accuracy: 0.9589 - val_loss: 0.4941 - val_accuracy: 0.8805 - lr: 0.0010\n",
            "Epoch 57/100\n",
            "42/42 [==============================] - 1s 29ms/step - loss: 0.1701 - accuracy: 0.9522 - val_loss: 0.4664 - val_accuracy: 0.8805 - lr: 0.0010\n",
            "Epoch 58/100\n",
            "42/42 [==============================] - 1s 29ms/step - loss: 0.1197 - accuracy: 0.9642 - val_loss: 0.5693 - val_accuracy: 0.9062 - lr: 0.0010\n",
            "Epoch 59/100\n",
            "42/42 [==============================] - 1s 28ms/step - loss: 0.0645 - accuracy: 0.9768 - val_loss: 0.4375 - val_accuracy: 0.8805 - lr: 0.0010\n",
            "Epoch 60/100\n",
            "42/42 [==============================] - 1s 26ms/step - loss: 0.0796 - accuracy: 0.9679 - val_loss: 0.5404 - val_accuracy: 0.8865 - lr: 0.0010\n",
            "Epoch 61/100\n",
            "42/42 [==============================] - 1s 26ms/step - loss: 0.0676 - accuracy: 0.9761 - val_loss: 0.4923 - val_accuracy: 0.8941 - lr: 0.0010\n",
            "Epoch 62/100\n",
            "42/42 [==============================] - 1s 33ms/step - loss: 0.0536 - accuracy: 0.9858 - val_loss: 0.4284 - val_accuracy: 0.9077 - lr: 0.0010\n",
            "Epoch 63/100\n",
            "42/42 [==============================] - 1s 27ms/step - loss: 0.0480 - accuracy: 0.9836 - val_loss: 0.4995 - val_accuracy: 0.8896 - lr: 0.0010\n",
            "Epoch 64/100\n",
            "42/42 [==============================] - 1s 26ms/step - loss: 0.0499 - accuracy: 0.9798 - val_loss: 0.5984 - val_accuracy: 0.8835 - lr: 0.0010\n",
            "Epoch 65/100\n",
            "42/42 [==============================] - 1s 32ms/step - loss: 0.0575 - accuracy: 0.9828 - val_loss: 0.5178 - val_accuracy: 0.8926 - lr: 0.0010\n",
            "Epoch 66/100\n",
            "42/42 [==============================] - 2s 42ms/step - loss: 0.0706 - accuracy: 0.9791 - val_loss: 0.3945 - val_accuracy: 0.9123 - lr: 0.0010\n",
            "Epoch 67/100\n",
            "42/42 [==============================] - 2s 42ms/step - loss: 0.0749 - accuracy: 0.9776 - val_loss: 0.3853 - val_accuracy: 0.9183 - lr: 0.0010\n",
            "Epoch 68/100\n",
            "42/42 [==============================] - 1s 30ms/step - loss: 0.1045 - accuracy: 0.9754 - val_loss: 1.0594 - val_accuracy: 0.8079 - lr: 0.0010\n",
            "Epoch 69/100\n",
            "42/42 [==============================] - 1s 27ms/step - loss: 0.1084 - accuracy: 0.9671 - val_loss: 0.6044 - val_accuracy: 0.8623 - lr: 0.0010\n",
            "Epoch 70/100\n",
            "42/42 [==============================] - 1s 27ms/step - loss: 0.0930 - accuracy: 0.9724 - val_loss: 0.5198 - val_accuracy: 0.8941 - lr: 0.0010\n",
            "Epoch 71/100\n",
            "42/42 [==============================] - 1s 29ms/step - loss: 0.0673 - accuracy: 0.9798 - val_loss: 0.6439 - val_accuracy: 0.8623 - lr: 9.5123e-04\n",
            "Epoch 72/100\n",
            "42/42 [==============================] - 1s 27ms/step - loss: 0.0408 - accuracy: 0.9895 - val_loss: 0.6006 - val_accuracy: 0.8835 - lr: 9.0484e-04\n",
            "Epoch 73/100\n",
            "42/42 [==============================] - 1s 27ms/step - loss: 0.0369 - accuracy: 0.9881 - val_loss: 0.5682 - val_accuracy: 0.8926 - lr: 8.6071e-04\n",
            "Epoch 74/100\n",
            "42/42 [==============================] - 1s 30ms/step - loss: 0.0287 - accuracy: 0.9933 - val_loss: 0.6128 - val_accuracy: 0.8880 - lr: 8.1873e-04\n",
            "Epoch 75/100\n",
            "42/42 [==============================] - 1s 27ms/step - loss: 0.0394 - accuracy: 0.9881 - val_loss: 0.5687 - val_accuracy: 0.9047 - lr: 7.7880e-04\n",
            "Epoch 76/100\n",
            "42/42 [==============================] - 2s 36ms/step - loss: 0.0315 - accuracy: 0.9918 - val_loss: 0.4859 - val_accuracy: 0.9032 - lr: 7.4082e-04\n",
            "Epoch 77/100\n",
            "42/42 [==============================] - 2s 37ms/step - loss: 0.0302 - accuracy: 0.9888 - val_loss: 0.4862 - val_accuracy: 0.9047 - lr: 7.0469e-04\n",
            "Epoch 78/100\n",
            "42/42 [==============================] - 1s 34ms/step - loss: 0.0292 - accuracy: 0.9925 - val_loss: 0.5206 - val_accuracy: 0.9062 - lr: 6.7032e-04\n",
            "Epoch 79/100\n",
            "42/42 [==============================] - 1s 30ms/step - loss: 0.0223 - accuracy: 0.9940 - val_loss: 0.4953 - val_accuracy: 0.9032 - lr: 6.3763e-04\n",
            "Epoch 80/100\n",
            "42/42 [==============================] - 1s 27ms/step - loss: 0.0171 - accuracy: 0.9948 - val_loss: 0.4581 - val_accuracy: 0.9123 - lr: 6.0653e-04\n",
            "Epoch 81/100\n",
            "42/42 [==============================] - 1s 27ms/step - loss: 0.0297 - accuracy: 0.9910 - val_loss: 0.5165 - val_accuracy: 0.9077 - lr: 5.7695e-04\n",
            "Epoch 82/100\n",
            "42/42 [==============================] - 1s 27ms/step - loss: 0.0181 - accuracy: 0.9918 - val_loss: 0.5381 - val_accuracy: 0.9047 - lr: 5.4881e-04\n",
            "Epoch 83/100\n",
            "42/42 [==============================] - 1s 26ms/step - loss: 0.0252 - accuracy: 0.9925 - val_loss: 0.5570 - val_accuracy: 0.9123 - lr: 5.2205e-04\n",
            "Epoch 84/100\n",
            "42/42 [==============================] - 1s 28ms/step - loss: 0.0267 - accuracy: 0.9933 - val_loss: 0.4699 - val_accuracy: 0.9062 - lr: 4.9659e-04\n",
            "Epoch 85/100\n",
            "42/42 [==============================] - 1s 28ms/step - loss: 0.0232 - accuracy: 0.9918 - val_loss: 0.4777 - val_accuracy: 0.9092 - lr: 4.7237e-04\n",
            "Epoch 86/100\n",
            "42/42 [==============================] - 1s 34ms/step - loss: 0.0201 - accuracy: 0.9940 - val_loss: 0.5044 - val_accuracy: 0.9198 - lr: 4.4933e-04\n",
            "Epoch 87/100\n",
            "42/42 [==============================] - 2s 38ms/step - loss: 0.0172 - accuracy: 0.9933 - val_loss: 0.5680 - val_accuracy: 0.8986 - lr: 4.2742e-04\n",
            "Epoch 88/100\n",
            "42/42 [==============================] - 2s 37ms/step - loss: 0.0126 - accuracy: 0.9955 - val_loss: 0.5133 - val_accuracy: 0.9168 - lr: 4.0657e-04\n",
            "Epoch 89/100\n",
            "42/42 [==============================] - 1s 30ms/step - loss: 0.0094 - accuracy: 0.9970 - val_loss: 0.4850 - val_accuracy: 0.9168 - lr: 3.8674e-04\n",
            "Epoch 90/100\n",
            "42/42 [==============================] - 1s 25ms/step - loss: 0.0082 - accuracy: 0.9970 - val_loss: 0.4865 - val_accuracy: 0.9138 - lr: 3.6788e-04\n",
            "Epoch 91/100\n",
            "42/42 [==============================] - 1s 26ms/step - loss: 0.0273 - accuracy: 0.9948 - val_loss: 0.4406 - val_accuracy: 0.9183 - lr: 3.4994e-04\n",
            "Epoch 92/100\n",
            "42/42 [==============================] - 1s 34ms/step - loss: 0.0076 - accuracy: 0.9985 - val_loss: 0.4424 - val_accuracy: 0.9213 - lr: 3.3287e-04\n",
            "Epoch 93/100\n",
            "42/42 [==============================] - 1s 33ms/step - loss: 0.0130 - accuracy: 0.9970 - val_loss: 0.3938 - val_accuracy: 0.9228 - lr: 3.1664e-04\n",
            "Epoch 94/100\n",
            "42/42 [==============================] - 1s 26ms/step - loss: 0.0094 - accuracy: 0.9978 - val_loss: 0.4425 - val_accuracy: 0.9168 - lr: 3.0119e-04\n",
            "Epoch 95/100\n",
            "42/42 [==============================] - 1s 29ms/step - loss: 0.0159 - accuracy: 0.9933 - val_loss: 0.4707 - val_accuracy: 0.9153 - lr: 2.8651e-04\n",
            "Epoch 96/100\n",
            "42/42 [==============================] - 1s 26ms/step - loss: 0.0080 - accuracy: 0.9963 - val_loss: 0.4639 - val_accuracy: 0.9198 - lr: 2.7253e-04\n",
            "Epoch 97/100\n",
            "42/42 [==============================] - 1s 27ms/step - loss: 0.0117 - accuracy: 0.9963 - val_loss: 0.4298 - val_accuracy: 0.9198 - lr: 2.5924e-04\n",
            "Epoch 98/100\n",
            "42/42 [==============================] - 2s 44ms/step - loss: 0.0121 - accuracy: 0.9955 - val_loss: 0.4254 - val_accuracy: 0.9228 - lr: 2.4660e-04\n",
            "Epoch 99/100\n",
            "42/42 [==============================] - 2s 38ms/step - loss: 0.0097 - accuracy: 0.9978 - val_loss: 0.4421 - val_accuracy: 0.9183 - lr: 2.3457e-04\n",
            "Epoch 100/100\n",
            "42/42 [==============================] - 1s 29ms/step - loss: 0.0122 - accuracy: 0.9985 - val_loss: 0.4363 - val_accuracy: 0.9183 - lr: 2.2313e-04\n"
          ]
        },
        {
          "output_type": "execute_result",
          "data": {
            "text/plain": [
              "<tensorflow.python.checkpoint.checkpoint.CheckpointLoadStatus at 0x7fb331a131f0>"
            ]
          },
          "metadata": {},
          "execution_count": 37
        }
      ]
    },
    {
      "cell_type": "code",
      "source": [
        "np.shape(X2) "
      ],
      "metadata": {
        "colab": {
          "base_uri": "https://localhost:8080/"
        },
        "id": "4w27dhGnVHLT",
        "outputId": "8e01d286-1abd-4257-c133-22c512128365"
      },
      "id": "4w27dhGnVHLT",
      "execution_count": null,
      "outputs": [
        {
          "output_type": "execute_result",
          "data": {
            "text/plain": [
              "(3114, 210, 60)"
            ]
          },
          "metadata": {},
          "execution_count": 18
        }
      ]
    },
    {
      "cell_type": "markdown",
      "source": [
        "# Test"
      ],
      "metadata": {
        "id": "DVWvCs9Y0LKD"
      },
      "id": "DVWvCs9Y0LKD"
    },
    {
      "cell_type": "code",
      "source": [
        "def create_clf(max_len,size_features):\n",
        " # create model\n",
        " #Model A\n",
        "  input_clf = Input(shape=(max_len,63), name=\"Input_a\")\n",
        "  x= Conv1D(filters=64, kernel_size=7, activation='selu', input_shape=(max_len,63))(input_clf)\n",
        "  x= Conv1D(filters=128, kernel_size=5, activation='relu')(x)\n",
        "  x= MaxPooling1D(pool_size=3)(x)\n",
        "  x= Conv1D(filters=256, kernel_size=5, activation='relu')(x)\n",
        "  x= Dropout(0.5)(x)\n",
        "  x= MaxPooling1D(pool_size=3)(x)\n",
        "  x= Flatten()(x)\n",
        "  x= Dropout(0.5)(x)\n",
        "  x= Dense(400, activation='relu')(x)\n",
        "  x= Dropout(0.5)(x)\n",
        "  output_clf= Dense(100, activation='relu')(x)\n",
        "  \n",
        "  # output_clf = Dense(13,activation='softmax')(x)\n",
        "  # model = Model(inputs=[input_clf],outputs=[output_clf], name = \"Model_Nio\")\n",
        "\n",
        "  #Model B\n",
        "  input_features = Input(shape=(size_features,), name=\"Input_b\")\n",
        "  y= Dense(350, activation='selu')(input_features)\n",
        "  y= Dropout(0.15)(y)\n",
        "  output_features = Dense(100, activation='relu')(y)\n",
        "\n",
        "  a_b = concatenate([output_clf,output_features],name=\"concatenated_layer\")\n",
        "\n",
        "  output_layer = Dense(13, activation = \"softmax\", name = \"output_layer\")(a_b)\n",
        "\n",
        "  model = Model(inputs=[(input_clf,input_features)],outputs=[output_layer], name = \"merged_model\")\n",
        "\n",
        " # Compile model\n",
        "  model.compile(loss=tf.keras.losses.CategoricalCrossentropy(from_logits=True), optimizer='adam', metrics=['accuracy'])\n",
        "  model.summary()\n",
        "  keras.utils.plot_model(model, \"architecture.png\", show_shapes=True)\n",
        "  return model\n",
        "\n",
        "# def create_clf_Rocket(size_kernel):\n",
        "#     model = Sequential()\n",
        "#     model.add(Dense(250, activation='relu',input_shape=(size_kernel*2,)))\n",
        "#     model.add(Dropout(0.5))\n",
        "#     model.add(Dense(70, activation='relu'))\n",
        "#     return(model)\n",
        "\n",
        "clf1=create_clf(max_len,3780)\n",
        "hist =clf1.fit(x=[X_train,X_train_Rocket],y=y_train2a,epochs=100,validation_split=0.33)\n",
        "\n",
        "# create_clf_Rocket(1870).summary()"
      ],
      "metadata": {
        "colab": {
          "base_uri": "https://localhost:8080/",
          "height": 1000
        },
        "id": "is99JsHct9xE",
        "outputId": "cfd5aee4-15e8-4ada-8b6c-ec640b5d62d7"
      },
      "id": "is99JsHct9xE",
      "execution_count": null,
      "outputs": [
        {
          "output_type": "stream",
          "name": "stdout",
          "text": [
            "Model: \"merged_model\"\n",
            "__________________________________________________________________________________________________\n",
            " Layer (type)                   Output Shape         Param #     Connected to                     \n",
            "==================================================================================================\n",
            " Input_a (InputLayer)           [(None, 60, 63)]     0           []                               \n",
            "                                                                                                  \n",
            " conv1d (Conv1D)                (None, 54, 64)       28288       ['Input_a[0][0]']                \n",
            "                                                                                                  \n",
            " conv1d_1 (Conv1D)              (None, 50, 128)      41088       ['conv1d[0][0]']                 \n",
            "                                                                                                  \n",
            " max_pooling1d (MaxPooling1D)   (None, 16, 128)      0           ['conv1d_1[0][0]']               \n",
            "                                                                                                  \n",
            " conv1d_2 (Conv1D)              (None, 12, 256)      164096      ['max_pooling1d[0][0]']          \n",
            "                                                                                                  \n",
            " dropout (Dropout)              (None, 12, 256)      0           ['conv1d_2[0][0]']               \n",
            "                                                                                                  \n",
            " max_pooling1d_1 (MaxPooling1D)  (None, 4, 256)      0           ['dropout[0][0]']                \n",
            "                                                                                                  \n",
            " flatten (Flatten)              (None, 1024)         0           ['max_pooling1d_1[0][0]']        \n",
            "                                                                                                  \n",
            " dropout_1 (Dropout)            (None, 1024)         0           ['flatten[0][0]']                \n",
            "                                                                                                  \n",
            " Input_b (InputLayer)           [(None, 3780)]       0           []                               \n",
            "                                                                                                  \n",
            " dense (Dense)                  (None, 400)          410000      ['dropout_1[0][0]']              \n",
            "                                                                                                  \n",
            " dense_2 (Dense)                (None, 350)          1323350     ['Input_b[0][0]']                \n",
            "                                                                                                  \n",
            " dropout_2 (Dropout)            (None, 400)          0           ['dense[0][0]']                  \n",
            "                                                                                                  \n",
            " dropout_3 (Dropout)            (None, 350)          0           ['dense_2[0][0]']                \n",
            "                                                                                                  \n",
            " dense_1 (Dense)                (None, 100)          40100       ['dropout_2[0][0]']              \n",
            "                                                                                                  \n",
            " dense_3 (Dense)                (None, 100)          35100       ['dropout_3[0][0]']              \n",
            "                                                                                                  \n",
            " concatenated_layer (Concatenat  (None, 200)         0           ['dense_1[0][0]',                \n",
            " e)                                                               'dense_3[0][0]']                \n",
            "                                                                                                  \n",
            " output_layer (Dense)           (None, 13)           2613        ['concatenated_layer[0][0]']     \n",
            "                                                                                                  \n",
            "==================================================================================================\n",
            "Total params: 2,044,635\n",
            "Trainable params: 2,044,635\n",
            "Non-trainable params: 0\n",
            "__________________________________________________________________________________________________\n"
          ]
        },
        {
          "output_type": "error",
          "ename": "NameError",
          "evalue": "ignored",
          "traceback": [
            "\u001b[0;31m---------------------------------------------------------------------------\u001b[0m",
            "\u001b[0;31mNameError\u001b[0m                                 Traceback (most recent call last)",
            "\u001b[0;32m<ipython-input-11-1672a4957202>\u001b[0m in \u001b[0;36m<module>\u001b[0;34m\u001b[0m\n\u001b[1;32m     44\u001b[0m \u001b[0;34m\u001b[0m\u001b[0m\n\u001b[1;32m     45\u001b[0m \u001b[0mclf1\u001b[0m\u001b[0;34m=\u001b[0m\u001b[0mcreate_clf\u001b[0m\u001b[0;34m(\u001b[0m\u001b[0mmax_len\u001b[0m\u001b[0;34m,\u001b[0m\u001b[0;36m3780\u001b[0m\u001b[0;34m)\u001b[0m\u001b[0;34m\u001b[0m\u001b[0;34m\u001b[0m\u001b[0m\n\u001b[0;32m---> 46\u001b[0;31m \u001b[0mhist\u001b[0m \u001b[0;34m=\u001b[0m\u001b[0mclf1\u001b[0m\u001b[0;34m.\u001b[0m\u001b[0mfit\u001b[0m\u001b[0;34m(\u001b[0m\u001b[0mx\u001b[0m\u001b[0;34m=\u001b[0m\u001b[0;34m[\u001b[0m\u001b[0mX_train\u001b[0m\u001b[0;34m,\u001b[0m\u001b[0mX_train_Rocket\u001b[0m\u001b[0;34m]\u001b[0m\u001b[0;34m,\u001b[0m\u001b[0my\u001b[0m\u001b[0;34m=\u001b[0m\u001b[0my_train2a\u001b[0m\u001b[0;34m,\u001b[0m\u001b[0mepochs\u001b[0m\u001b[0;34m=\u001b[0m\u001b[0;36m100\u001b[0m\u001b[0;34m,\u001b[0m\u001b[0mvalidation_split\u001b[0m\u001b[0;34m=\u001b[0m\u001b[0;36m0.33\u001b[0m\u001b[0;34m)\u001b[0m\u001b[0;34m\u001b[0m\u001b[0;34m\u001b[0m\u001b[0m\n\u001b[0m\u001b[1;32m     47\u001b[0m \u001b[0;34m\u001b[0m\u001b[0m\n\u001b[1;32m     48\u001b[0m \u001b[0;31m# create_clf_Rocket(1870).summary()\u001b[0m\u001b[0;34m\u001b[0m\u001b[0;34m\u001b[0m\u001b[0;34m\u001b[0m\u001b[0m\n",
            "\u001b[0;31mNameError\u001b[0m: name 'X_train_Rocket' is not defined"
          ]
        }
      ]
    },
    {
      "cell_type": "markdown",
      "source": [
        "# Résultat"
      ],
      "metadata": {
        "id": "l0zfTH1c0QNV"
      },
      "id": "l0zfTH1c0QNV"
    },
    {
      "cell_type": "code",
      "source": [
        "plt.plot(hist.history['accuracy'],label=\"train\")\n",
        "plt.plot(hist.history['val_accuracy'],label=\"val\")\n",
        "plt.ylim(0.7,1)\n",
        "plt.grid()\n",
        "plt.legend()\n",
        "plt.show()"
      ],
      "metadata": {
        "colab": {
          "base_uri": "https://localhost:8080/",
          "height": 269
        },
        "id": "L8G-FgbBLBu8",
        "outputId": "dc3fd7ad-9732-4c13-85de-0e51e2085a57"
      },
      "id": "L8G-FgbBLBu8",
      "execution_count": null,
      "outputs": [
        {
          "output_type": "display_data",
          "data": {
            "text/plain": [
              "<Figure size 432x288 with 1 Axes>"
            ],
            "image/png": "[encoded data removed]"
          },
          "metadata": {
            "needs_background": "light"
          }
        }
      ]
    },
    {
      "cell_type": "code",
      "source": [
        "plt.plot(hist.history['accuracy'],label=\"train\")\n",
        "plt.plot(hist.history['val_accuracy'],label=\"val\")\n",
        "plt.ylim(0.75,0.95)\n",
        "plt.grid()\n",
        "plt.legend()\n",
        "plt.show()"
      ],
      "metadata": {
        "colab": {
          "base_uri": "https://localhost:8080/",
          "height": 269
        },
        "id": "zHs0h3Pj4KsT",
        "outputId": "f09417a8-63ab-4f7d-8377-78e19df41ea8"
      },
      "id": "zHs0h3Pj4KsT",
      "execution_count": null,
      "outputs": [
        {
          "output_type": "display_data",
          "data": {
            "text/plain": [
              "<Figure size 432x288 with 1 Axes>"
            ],
            "image/png": "[encoded data removed]"
          },
          "metadata": {
            "needs_background": "light"
          }
        }
      ]
    },
    {
      "cell_type": "markdown",
      "source": [
        "... sur le set de Validation"
      ],
      "metadata": {
        "id": "WrU2LP34PcWu"
      },
      "id": "WrU2LP34PcWu"
    },
    {
      "cell_type": "markdown",
      "source": [
        "... sur le set de Test"
      ],
      "metadata": {
        "id": "XKvlhW15PeXn"
      },
      "id": "XKvlhW15PeXn"
    },
    {
      "cell_type": "code",
      "source": [
        "y_pred_val=np.argmax(clf1.predict([X1_val,X2_val,X3_val,X4_val]),axis=1)\n",
        "pred = np.argmax(clf1.predict([lands_test,dist_test,diff_lands_test]),axis=1)+1\n",
        "for i in range(len(y_pred_val)):\n",
        "  y_pred_val[i]+=1\n",
        "\n",
        "y_pred_test=np.argmax(clf1.predict([]),axis=1)\n",
        "\n",
        "for i in range(len(y_pred_test)):\n",
        "  y_pred_test[i]+=1\n",
        "\n",
        "print(y_pred_test[:5])"
      ],
      "metadata": {
        "colab": {
          "base_uri": "https://localhost:8080/"
        },
        "id": "IWQ5ybFCKz_G",
        "outputId": "b904a780-a37b-4dc0-ca4c-8bf822d2a3ef"
      },
      "id": "IWQ5ybFCKz_G",
      "execution_count": null,
      "outputs": [
        {
          "output_type": "stream",
          "name": "stdout",
          "text": [
            "35/35 [==============================] - 1s 11ms/step\n"
          ]
        }
      ]
    },
    {
      "cell_type": "code",
      "source": [
        "np.sum((y_pred_val==y_val))/len(y_val)"
      ],
      "metadata": {
        "colab": {
          "base_uri": "https://localhost:8080/"
        },
        "id": "e7GuZM8SiAp8",
        "outputId": "741ca612-ee16-465e-b74d-8505567ccb5a"
      },
      "id": "e7GuZM8SiAp8",
      "execution_count": null,
      "outputs": [
        {
          "output_type": "execute_result",
          "data": {
            "text/plain": [
              "0.7989228007181328"
            ]
          },
          "metadata": {},
          "execution_count": 41
        }
      ]
    },
    {
      "cell_type": "markdown",
      "source": [
        "Résultats"
      ],
      "metadata": {
        "id": "9ZiShTjVOqSn"
      },
      "id": "9ZiShTjVOqSn"
    },
    {
      "cell_type": "code",
      "execution_count": null,
      "id": "2306b38f",
      "metadata": {
        "id": "2306b38f"
      },
      "outputs": [],
      "source": [
        "df = pd.DataFrame(columns = ['Id', 'Gesture'])\n",
        "for i in range(len(y_pred_test)):\n",
        "  df.loc[i, :] = [int(list_id2[i]), int(y_pred_test[i])]\n",
        "\n",
        "#Prédictions sans landmarks\n",
        "df.loc[1095,:] = [10, 1]\n",
        "df.loc[1096, :] = [14, 1]\n",
        "df.loc[1097, :] = [16, 1]\n",
        "df.loc[1098, :] = [27, 1]\n",
        "df.loc[1099, :] = [31, 1]\n",
        "df.loc[1100, :] = [33, 1]\n",
        "\n",
        "df.sort_values('Id', inplace = True)\n",
        "df.to_csv(\"result.csv\", index = False)"
      ]
    }
  ],
  "metadata": {
    "kernelspec": {
      "display_name": "Python 3 (ipykernel)",
      "language": "python",
      "name": "python3"
    },
    "language_info": {
      "codemirror_mode": {
        "name": "ipython",
        "version": 3
      },
      "file_extension": ".py",
      "mimetype": "text/x-python",
      "name": "python",
      "nbconvert_exporter": "python",
      "pygments_lexer": "ipython3",
      "version": "3.8.13"
    },
    "colab": {
      "provenance": []
    },
    "gpuClass": "standard",
    "accelerator": "GPU"
  },
  "nbformat": 4,
  "nbformat_minor": 5
}